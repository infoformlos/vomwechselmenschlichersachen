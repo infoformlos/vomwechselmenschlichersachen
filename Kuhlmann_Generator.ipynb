{
  "nbformat": 4,
  "nbformat_minor": 0,
  "metadata": {
    "colab": {
      "provenance": []
    },
    "kernelspec": {
      "name": "python3",
      "display_name": "Python 3"
    },
    "language_info": {
      "name": "python"
    }
  },
  "cells": [
    {
      "cell_type": "code",
      "source": [
        "import random\n",
        "\n",
        "# Wortlisten nach den Zeilen von Quirinius Kuhlmanns \"Vom Wechsel menschlicher\n",
        "# Sachen\" (Rechtschreibung aktualisiert)\n",
        "zeile1 = [\"Christbaum\", \"Jesus\", \"Esel\", \"Dreikönige\", \"Jesus\", \"Maria\", \"Hirten\", \"Christbaum\", \"Geschenke\", \"Kinderlachen\", \"Lametta\", \"Tannenbaum\", \"Konfetti\", \"Plätzchen\"]\n",
        "zeile2 = [\"Granate\", \"Pistole\", \"Gewehr\", \"Schützengraben\", \"Hellebarde\", \"Axt\", \"Schwert\", \"Bogen\", \"Armbrust\"]\n",
        "zeile3 = [\"Leid\", \"Pein\", \"Schmach\", \"Angst\", \"Krieg\", \"Ach\", \"Kreuz\", \"Streit\", \"Hohn\", \"Schmerz\", \"Qual\", \"Tück\", \"Schimpf\", \"Spott\"]\n",
        "zeile4 = [\"Freud\", \"Zier\", \"Ehr\", \"Trost\", \"Sieg\", \"Rat\", \"Nutz\", \"Fried\", \"Lohn\", \"Scherz\", \"Ruh\", \"Glück\", \"Glimpf\", \"tragen\"]\n",
        "\n",
        "zeile5 = [\"Mond\", \"Glunst\", \"Rauch\", \"Gems\", \"Fisch\", \"Gold\", \"Perl\", \"Baum\", \"Flamm\", \"Storch\", \"Frosch\", \"Lamm\", \"Ochs\", \"Magen\"]\n",
        "zeile6 = [\"Schein\", \"Stroh\", \"Dampf\", \"Berg\", \"Flut\", \"Glut\", \"Schaum\", \"Frucht\", \"Asch\", \"Dach\", \"Teich\", \"Feld\", \"Wies\", \"Brot\"]\n",
        "zeile7 = [\"Schütz\", \"Mensch\", \"Fleiß\", \"Müh\", \"Kunst\", \"Spiel\", \"Schiff\", \"Mund\", \"Prinz\", \"Rach\", \"Sorg\", \"Geiz\", \"Treu\", \"Gott\"]\n",
        "zeile8 = [\"Ziel\", \"Schlaf\", \"Preis\", \"Lob\", \"Gunst\", \"Zank\", \"Port\", \"Kuß\", \"Thron\", \"Mord\", \"Sarg\", \"Geld\", \"Hold\", \"Danksagen\"]\n",
        "\n",
        "zeile9 = [\"gut\", \"stark\", \"schwer\", \"recht\", \"lang\", \"groß\", \"weiß\", \"eins\", \"ja\", \"Luft\", \"Feur\", \"hoch\", \"weit\", \"genennt\"]\n",
        "zeile10 = [\"bös\", \"schwach\", \"leicht\", \"krumm\", \"breit\", \"klein\", \"schwarz\", \"drei\", \"nein\", \"Erd\", \"Flut\", \"tief\", \"nah\", \"meiden\"]\n",
        "zeile11 = [\"Mut\", \"Lieb\", \"klug\", \"Witz\", \"Geist\", \"Seel\", \"Freund\", \"Lust\", \"Zier\", \"Ruhm\", \"Fried\", \"Scherz\", \"Lob\", \"scheiden\"]\n",
        "\n",
        "zeile12 = [\"Furcht\", \"Haß\", \"Trug\", \"Wein\", \"Fleisch\", \"Leib\", \"Feind\", \"Weh\", \"Schmach\", \"Angst\", \"Streit\", \"Schmerz\", \"Hohn\"]"
      ],
      "metadata": {
        "id": "Vd8Ys9yz4rmA"
      },
      "execution_count": null,
      "outputs": []
    },
    {
      "cell_type": "code",
      "source": [
        "# Generierung des Gedichts\n",
        "\n",
        "print(f\"Auf {random.choice(zeile1)} und Ochs\")\n",
        "print(f\"Folgt {random.choice(zeile2)} und Not.\")\n",
        "print(f\"Auf {random.choice(zeile3)} als Spott\")\n",
        "print(f\"Will {random.choice(zeile4)} stets tragen.\\n\")\n",
        "\n",
        "print(f\"Der {random.choice(zeile5)} und Magen\")\n",
        "print(f\"Liebt {random.choice(zeile6)} und Brot.\")\n",
        "print(f\"Der {random.choice(zeile7)} und Gott\")\n",
        "print(f\"Sucht’s {random.choice(zeile8)}.\\n\")\n",
        "\n",
        "print(f\"Was {random.choice(zeile9)} genennt\")\n",
        "print(f\"Pflegt {random.choice(zeile10)} zu meiden.\")\n",
        "print(f\"Auch {random.choice(zeile11)} muß scheiden\\n\")\n",
        "\n",
        "print(f\"Wo {random.choice(zeile12)} schon rennt.\")\n",
        "print(f\"Alles wechselt; alles liebet; alles scheinet was zu hassen:\")\n",
        "print(f\"Wer nur diesem nach wird denken; muß der Menschen Weisheit fassen.\")"
      ],
      "metadata": {
        "id": "rOC6COBH_40d",
        "outputId": "e21c6aaf-f5c1-4ff0-d85a-f108b4dc141d",
        "colab": {
          "base_uri": "https://localhost:8080/"
        }
      },
      "execution_count": null,
      "outputs": [
        {
          "output_type": "stream",
          "name": "stdout",
          "text": [
            "Auf Konfetti und Ochs\n",
            "Folgt Gewehr und Not.\n",
            "Auf Kreuz als Spott\n",
            "Will Ehr stets tragen.\n",
            "\n",
            "Der Glunst und Magen\n",
            "Liebt Dach und Brot.\n",
            "Der Kunst und Gott\n",
            "Sucht’s Mord.\n",
            "\n",
            "Was stark genennt\n",
            "Pflegt Erd zu meiden.\n",
            "Auch Mut muß scheiden\n",
            "\n",
            "Wo Feind schon rennt.\n",
            "Alles wechselt; alles liebet; alles scheinet was zu hassen:\n",
            "Wer nur diesem nach wird denken; muß der Menschen Weisheit fassen.\n"
          ]
        }
      ]
    }
  ]
}